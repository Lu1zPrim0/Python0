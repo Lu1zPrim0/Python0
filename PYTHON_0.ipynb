{
  "nbformat": 4,
  "nbformat_minor": 0,
  "metadata": {
    "colab": {
      "provenance": [],
      "collapsed_sections": [
        "lD0PQkzzriW_",
        "xBrLdRw74KqS"
      ],
      "authorship_tag": "ABX9TyMcwwxFRWXjyS0n3wIaATLI",
      "include_colab_link": true
    },
    "kernelspec": {
      "name": "python3",
      "display_name": "Python 3"
    },
    "language_info": {
      "name": "python"
    }
  },
  "cells": [
    {
      "cell_type": "markdown",
      "metadata": {
        "id": "view-in-github",
        "colab_type": "text"
      },
      "source": [
        "<a href=\"https://colab.research.google.com/github/Lu1zPrim0/Python0/blob/main/PYTHON_0.ipynb\" target=\"_parent\"><img src=\"https://colab.research.google.com/assets/colab-badge.svg\" alt=\"Open In Colab\"/></a>"
      ]
    },
    {
      "cell_type": "markdown",
      "source": [
        "# PYTHON - SINTAXE BÁSICA"
      ],
      "metadata": {
        "id": "ykWJfRDhbb1N"
      }
    },
    {
      "cell_type": "markdown",
      "source": [
        "# Declaração de variável\n",
        "\n",
        "\n"
      ],
      "metadata": {
        "id": "lD0PQkzzriW_"
      }
    },
    {
      "cell_type": "markdown",
      "source": [
        "- Uma variável é um nome que você dá a um valor armazenado na memória do computador que funciona como uma \"caixa\" onde você guarda dados."
      ],
      "metadata": {
        "id": "fCyggJ_ucvm4"
      }
    },
    {
      "cell_type": "code",
      "source": [
        "x = \"gabriel\" # atribuindo valor a variável X\n",
        "print(x) # expresse o valor de x\n"
      ],
      "metadata": {
        "colab": {
          "base_uri": "https://localhost:8080/"
        },
        "id": "Ui6E3zbMjQW6",
        "outputId": "97183c73-27cb-4746-b843-e5b679797d37"
      },
      "execution_count": null,
      "outputs": [
        {
          "output_type": "stream",
          "name": "stdout",
          "text": [
            "gabriel\n"
          ]
        }
      ]
    },
    {
      "cell_type": "code",
      "source": [
        "idade = int(input(\"qual sua idade?\")) # A função input() é usada para receber dados digitados pelo usuário\n",
        "y =  idade + 10\n",
        "print(f\"a minha idade daqui a dez anos é  {y} e tenho {idade} anos.\")"
      ],
      "metadata": {
        "colab": {
          "base_uri": "https://localhost:8080/"
        },
        "id": "Vnu03Dl5TH5E",
        "outputId": "098a06b0-0065-47ac-a555-112c457f772b"
      },
      "execution_count": null,
      "outputs": [
        {
          "output_type": "stream",
          "name": "stdout",
          "text": [
            "qual sua idade?26\n",
            "a minha idade daqui a dez anos é  36 e tenho 26 anos.\n"
          ]
        }
      ]
    },
    {
      "cell_type": "markdown",
      "source": [
        "\n",
        "# Tipos de dados básicos\n"
      ],
      "metadata": {
        "id": "xBrLdRw74KqS"
      }
    },
    {
      "cell_type": "markdown",
      "source": [
        "Em Python, as variáveis são dinamicamente tipadas. Os tipos basicos de dados são float, int, bool e string.\n",
        "\n",
        "- Você não precisa declarar o **tipo** de dado explicitamente (como em outras linguagens). O Python infere o tipo automaticamente com base no valor atribuído."
      ],
      "metadata": {
        "id": "_-3ciM4ZeITN"
      }
    },
    {
      "cell_type": "code",
      "source": [
        "#type() é capaz de identificar o tipo de dado de determinada variavel\n",
        "\n",
        "print(type('Everton'))\n",
        "\n",
        "print(type (5))\n",
        "\n",
        "print(type (57.2))\n"
      ],
      "metadata": {
        "colab": {
          "base_uri": "https://localhost:8080/"
        },
        "id": "4C2ZCBmV8OIk",
        "outputId": "30312db0-b35f-4596-bbf1-8b7d1e257f3b"
      },
      "execution_count": null,
      "outputs": [
        {
          "output_type": "stream",
          "name": "stdout",
          "text": [
            "<class 'str'>\n",
            "<class 'int'>\n",
            "<class 'float'>\n"
          ]
        }
      ]
    },
    {
      "cell_type": "markdown",
      "source": [
        "## String\n",
        "**As** strings são o tipo de dado que se define por caracteres representados por aspas simples ou duplas."
      ],
      "metadata": {
        "id": "zhjmoZJlfPtl"
      }
    },
    {
      "cell_type": "code",
      "source": [
        "#string, Tudo o que não é número.\n",
        "print('f')\n",
        "print('Olá, mundo!') #aspas simples\n",
        "print(\"Olá, mundo!\") #aspas duplas\n",
        "print('10') #número\n",
        "print(\" \") #espaço em branco\n",
        "print() #linha em branco\n",
        "print('@!#?@!') #caracter especial"
      ],
      "metadata": {
        "colab": {
          "base_uri": "https://localhost:8080/"
        },
        "id": "tRxiDnKK58EN",
        "outputId": "84e36dde-ed0a-4a1d-8c82-c382179f790c"
      },
      "execution_count": null,
      "outputs": [
        {
          "output_type": "stream",
          "name": "stdout",
          "text": [
            "Olá, mundo!\n",
            "Olá, mundo!\n",
            "10\n",
            " \n",
            "\n",
            "@!#?@!\n"
          ]
        }
      ]
    },
    {
      "cell_type": "markdown",
      "source": [
        "## Int\n",
        "Universo númerico inteiro"
      ],
      "metadata": {
        "id": "OjR24sZNgA1L"
      }
    },
    {
      "cell_type": "code",
      "source": [
        "print(26) #int, são os números positivos, negativos e o zero, que não possuem parte decimal\n",
        "numero_de_irmaos = 3\n",
        "temperatura = -10"
      ],
      "metadata": {
        "id": "5L1OB88kd_ao"
      },
      "execution_count": null,
      "outputs": []
    },
    {
      "cell_type": "markdown",
      "source": [
        "## Float\n",
        "Números partidos"
      ],
      "metadata": {
        "id": "qnBCSidsgMTn"
      }
    },
    {
      "cell_type": "code",
      "source": [
        "# Os tipos de dados que representam formas númericas são dois INT e FLOAT, o primeiro sobre números inteiros e o segundo sobre números \"quebrados\" representado por ponto e não virgula.\n",
        "print(7) #int\n",
        "print(7,1) #float"
      ],
      "metadata": {
        "id": "s27--Y1Z6hNP"
      },
      "execution_count": null,
      "outputs": []
    },
    {
      "cell_type": "code",
      "source": [
        "print(26.0) #float, pontos flutuantes, são os números que possuem parte decimal\n",
        "peso = 68.5\n",
        "pi = 3.14159"
      ],
      "metadata": {
        "id": "8AXMS9cBd_zR"
      },
      "execution_count": null,
      "outputs": []
    },
    {
      "cell_type": "markdown",
      "source": [
        "## Bool\n",
        "Dados binários"
      ],
      "metadata": {
        "id": "Fxy1KothgWsC"
      }
    },
    {
      "cell_type": "code",
      "source": [
        "print(True) #bool, dado de apenas dois valores binários.\n",
        "print(False) #bool, dado de apenas dois valores binários."
      ],
      "metadata": {
        "id": "T_Yf724-eACF"
      },
      "execution_count": null,
      "outputs": []
    },
    {
      "cell_type": "code",
      "source": [
        "#bool é a variável booleana, dual, afirmativa e negativa:\n",
        "ativo = True\n",
        "print(ativo)  # Saída: True\n",
        "print(type(ativo))  # Saída: <class 'bool'>"
      ],
      "metadata": {
        "id": "QmGC-K0d9yOV",
        "colab": {
          "base_uri": "https://localhost:8080/"
        },
        "outputId": "202d3a61-7fa1-4af7-cadc-5249dffb6084"
      },
      "execution_count": null,
      "outputs": [
        {
          "output_type": "stream",
          "name": "stdout",
          "text": [
            "True\n",
            "<class 'bool'>\n"
          ]
        }
      ]
    },
    {
      "cell_type": "code",
      "source": [
        "# Qualquer dado pode ser convertido para Bool, enquanto zero, strings vazias e listas vazias são convertidos para False, e os demais são para True.\n",
        "print(bool(0))      # Saída: False\n",
        "print(bool(\"\"))     # Saída: False\n",
        "print(bool([]))     # Saída: False\n",
        "print(bool(\"Oi\"))   # Saída: True\n",
        "print(bool(1))      # Saída: True"
      ],
      "metadata": {
        "colab": {
          "base_uri": "https://localhost:8080/"
        },
        "id": "iad9e86EktHR",
        "outputId": "b662f53b-f848-4083-9e38-815a915ed2be"
      },
      "execution_count": null,
      "outputs": [
        {
          "output_type": "stream",
          "name": "stdout",
          "text": [
            "False\n",
            "False\n",
            "False\n",
            "True\n",
            "True\n"
          ]
        }
      ]
    },
    {
      "cell_type": "markdown",
      "source": [
        "# Operadores aritméticos\n"
      ],
      "metadata": {
        "id": "mM_N46zG-ZU6"
      }
    },
    {
      "cell_type": "markdown",
      "source": [
        "Atribuição: =\n",
        "\n",
        "Igualdade: ==\n",
        "\n",
        "Soma: +\n",
        "\n",
        "Subtração: -\n",
        "\n",
        "Multiplicação: *\n",
        "\n",
        "Divisão: /\n",
        "\n",
        "Potência: **\n",
        "\n",
        "Divisão inteira: //\n",
        "\n",
        "Resto da divisão: %"
      ],
      "metadata": {
        "id": "PHu-eKF-ZMzR"
      }
    },
    {
      "cell_type": "code",
      "source": [
        "# Atribuir um valor a uma variável.\n",
        "x = 10  # Atribui o valor 10 à variável x\n",
        "y = 5   # Atribui o valor 5 à variável y\n",
        "print(x, y)"
      ],
      "metadata": {
        "colab": {
          "base_uri": "https://localhost:8080/"
        },
        "id": "Z4j5EVp0zT5U",
        "outputId": "912d7fa6-af40-4daf-ff3c-797a60767e05"
      },
      "execution_count": null,
      "outputs": [
        {
          "output_type": "stream",
          "name": "stdout",
          "text": [
            "10 5\n"
          ]
        }
      ]
    },
    {
      "cell_type": "code",
      "source": [
        "# Adição\n",
        "a = 5\n",
        "b = 3\n",
        "resultado = a + b\n",
        "print(resultado)  # Saída: 8"
      ],
      "metadata": {
        "colab": {
          "base_uri": "https://localhost:8080/"
        },
        "id": "AU1A5n-lv76C",
        "outputId": "699e866d-c810-468e-c70f-7b86c9619f48"
      },
      "execution_count": null,
      "outputs": [
        {
          "output_type": "stream",
          "name": "stdout",
          "text": [
            "8\n"
          ]
        }
      ]
    },
    {
      "cell_type": "code",
      "source": [
        "#Subtração\n",
        "a = 5\n",
        "b = 3\n",
        "resultado = a - b\n",
        "print(resultado)  # Saída: 2"
      ],
      "metadata": {
        "id": "lq_0dnyIwQws"
      },
      "execution_count": null,
      "outputs": []
    },
    {
      "cell_type": "code",
      "source": [
        "#Multiplicação\n",
        "a = 5\n",
        "b = 3\n",
        "resultado = a * b\n",
        "print(resultado)  # Saída: 15"
      ],
      "metadata": {
        "id": "8w4CD6pBwWpr"
      },
      "execution_count": null,
      "outputs": []
    },
    {
      "cell_type": "code",
      "source": [
        "# Divisão\n",
        "a = 5\n",
        "b = 2\n",
        "resultado = a / b\n",
        "print(resultado)  # Saída: 2.5"
      ],
      "metadata": {
        "id": "x8FVzd4wwcOE"
      },
      "execution_count": null,
      "outputs": []
    },
    {
      "cell_type": "code",
      "source": [
        "# Divisão Inteira\n",
        "a = 5\n",
        "b = 2\n",
        "resultado = a // b\n",
        "print(resultado)  # Saída: 2"
      ],
      "metadata": {
        "id": "0YvHhxJ6wgsR"
      },
      "execution_count": null,
      "outputs": []
    },
    {
      "cell_type": "code",
      "source": [
        "# Resto da Divisão\n",
        "a = 5\n",
        "b = 2\n",
        "resultado = a % b\n",
        "print(resultado)  # Saída: 1"
      ],
      "metadata": {
        "id": "aqZbZx36w0VQ"
      },
      "execution_count": null,
      "outputs": []
    },
    {
      "cell_type": "code",
      "source": [
        "# Potencialização\n",
        "a = 2\n",
        "b = 3\n",
        "resultado = a ** b\n",
        "print(resultado)  # Saída: 8"
      ],
      "metadata": {
        "colab": {
          "base_uri": "https://localhost:8080/"
        },
        "id": "5qovZBiyxVko",
        "outputId": "b71f7391-f2cf-4d33-b507-0d0238bb3c59"
      },
      "execution_count": null,
      "outputs": [
        {
          "output_type": "stream",
          "name": "stdout",
          "text": [
            "8\n"
          ]
        }
      ]
    },
    {
      "cell_type": "code",
      "source": [
        "# Python permite a simplificação com combinação de operadores em atribuição (=)\n",
        "a = 5\n",
        "a += 3  # Equivalente: a = a + 3\n",
        "print(a)  # Saída: 8\n",
        "\n",
        "c = 2\n",
        "c **= 3  # Equivalente: c = c ** 3\n",
        "print(a)  # Saída: 8"
      ],
      "metadata": {
        "colab": {
          "base_uri": "https://localhost:8080/"
        },
        "id": "Y0TthNxfyA5g",
        "outputId": "39b5b06e-4933-4667-bc84-81c66d0d5536"
      },
      "execution_count": null,
      "outputs": [
        {
          "output_type": "stream",
          "name": "stdout",
          "text": [
            "8\n",
            "8\n"
          ]
        }
      ]
    },
    {
      "cell_type": "code",
      "source": [
        "# == Compara dois valores e retorna True ou False\n",
        "a = 10\n",
        "b = 5\n",
        "c = 10\n",
        "resultado1 = (a == b)  # Compara se a é igual a b\n",
        "resultado2 = (a == c)  # Compara se a é igual a c\n",
        "print(resultado1)      # Saída: False\n",
        "print(resultado2)      # Saída: True"
      ],
      "metadata": {
        "colab": {
          "base_uri": "https://localhost:8080/"
        },
        "id": "GY4v0P6XztSd",
        "outputId": "87756b1a-e0bd-469a-cea1-518bb3a48509"
      },
      "execution_count": null,
      "outputs": [
        {
          "output_type": "stream",
          "name": "stdout",
          "text": [
            "False\n",
            "True\n"
          ]
        }
      ]
    },
    {
      "cell_type": "code",
      "source": [
        "# Conversão de um tipo em outro\n",
        "\n",
        "# int() - Converte para inteiro\n",
        "int()          # Saída: 0 (conversão de um valor vazio para inteiro retorna 0)\n",
        "int(1.9)       # Saída: 1 (converte float para int, descartando a parte decimal)\n",
        "int(True)      # Saída: 1 (True é convertido para 1)\n",
        "int(False)     # Saída: 0 (False é convertido para 0)\n",
        "int(\"2\")       # Saída: 2 (converte a string \"2\" para o inteiro 2)\n",
        "\n",
        "# float() - Converte para float\n",
        "float()        # Saída: 0.0 (conversão de um valor vazio para float retorna 0.0)\n",
        "float(1)       # Saída: 1.0 (converte o inteiro 1 para float 1.0)\n",
        "float(True)    # Saída: 1.0 (True é convertido para 1.0)\n",
        "float(False)   # Saída: 0.0 (False é convertido para 0.0)\n",
        "float(\"2\")     # Saída: 2.0 (converte a string \"2\" para o float 2.0)\n",
        "\n",
        "# str() - Converte para string\n",
        "str(2)         # Saída: \"2\" (converte o inteiro 2 para a string \"2\")\n",
        "str(2.1)       # Saída: \"2.1\" (converte o float 2.1 para a string \"2.1\")\n",
        "str(True)      # Saída: \"True\" (converte o booleano True para a string \"True\")\n",
        "str(False)     # Saída: \"False\" (converte o booleano False para a string \"False\")"
      ],
      "metadata": {
        "colab": {
          "base_uri": "https://localhost:8080/",
          "height": 35
        },
        "id": "P7CdfhUd-HCX",
        "outputId": "4e611dc2-94d1-4344-c9b0-a809754482fd"
      },
      "execution_count": null,
      "outputs": [
        {
          "output_type": "execute_result",
          "data": {
            "text/plain": [
              "'False'"
            ],
            "application/vnd.google.colaboratory.intrinsic+json": {
              "type": "string"
            }
          },
          "metadata": {},
          "execution_count": 2
        }
      ]
    },
    {
      "cell_type": "markdown",
      "source": [
        "==\n",
        "!=\n",
        "<\n",
        ">\n"
      ],
      "metadata": {
        "id": "nVY1G0_fnopf"
      }
    },
    {
      "cell_type": "markdown",
      "source": [
        "# Manipulação de String"
      ],
      "metadata": {
        "id": "YDD2u5lSgoXO"
      }
    },
    {
      "cell_type": "code",
      "source": [
        "# enquanto a adição é o nome que se dá a soma de int e float, as strings usam a concatenação:\n",
        "\n",
        "print (7 + 2) #soma\n",
        "\n",
        "print(7.2 + 2.8) #soma\n",
        "\n",
        "print('7' + '2') #concatenação"
      ],
      "metadata": {
        "colab": {
          "base_uri": "https://localhost:8080/"
        },
        "id": "QSabhtQB7enw",
        "outputId": "573f8d1d-781f-44d9-ce6b-949fde537a48"
      },
      "execution_count": null,
      "outputs": [
        {
          "output_type": "stream",
          "name": "stdout",
          "text": [
            "9\n",
            "10.0\n",
            "72\n"
          ]
        }
      ]
    },
    {
      "cell_type": "code",
      "source": [
        "#Concatenar\n",
        "\n",
        "nome = \"Luiz\"\n",
        "sobrenome = \"Primo\"\n",
        "nome_completo = nome + \" \" + sobrenome\n",
        "print(nome_completo)"
      ],
      "metadata": {
        "id": "jGwthRHNmQ7d"
      },
      "execution_count": null,
      "outputs": []
    },
    {
      "cell_type": "code",
      "source": [
        "# Replica\n",
        "\n",
        "print(\"Ha\" * 3)\n",
        "linha = \"-\" * 30\n",
        "print(linha)\n"
      ],
      "metadata": {
        "id": "nPHYG6oal_8P"
      },
      "execution_count": null,
      "outputs": []
    },
    {
      "cell_type": "markdown",
      "source": [
        "## Funções para manipulação de **strings**"
      ],
      "metadata": {
        "id": "4RT2kCHRma0K"
      }
    },
    {
      "cell_type": "code",
      "source": [
        "# Maisculo\n",
        "\n",
        "frase = \"Python é divertido\"\n",
        "print(frase.upper())\n"
      ],
      "metadata": {
        "colab": {
          "base_uri": "https://localhost:8080/"
        },
        "id": "o9fAB9-ZmhJP",
        "outputId": "557c77c5-c560-4ff1-9bbe-a05939592895"
      },
      "execution_count": null,
      "outputs": [
        {
          "output_type": "stream",
          "name": "stdout",
          "text": [
            "PYTHON É DIVERTIDO\n"
          ]
        }
      ]
    },
    {
      "cell_type": "code",
      "source": [
        "# Minusculo\n",
        "\n",
        "frase = \"Python É Divertido\"\n",
        "print(frase.lower())\n"
      ],
      "metadata": {
        "colab": {
          "base_uri": "https://localhost:8080/"
        },
        "id": "C-a7XB92mkM4",
        "outputId": "59b5a8a4-db81-47e5-b704-44f31bc8de8d"
      },
      "execution_count": null,
      "outputs": [
        {
          "output_type": "stream",
          "name": "stdout",
          "text": [
            "python é divertido\n"
          ]
        }
      ]
    },
    {
      "cell_type": "code",
      "source": [
        "# Quebrar a string em partes\n",
        "\n",
        "frase = \"Aprender Python é divertido\"\n",
        "palavras = frase.split()\n",
        "print(palavras)\n"
      ],
      "metadata": {
        "colab": {
          "base_uri": "https://localhost:8080/"
        },
        "id": "o9g5qmQ3mnus",
        "outputId": "7fa71984-8c5d-494c-c08e-e4cf0f5a8910"
      },
      "execution_count": null,
      "outputs": [
        {
          "output_type": "stream",
          "name": "stdout",
          "text": [
            "['Aprender', 'Python', 'é', 'divertido']\n"
          ]
        }
      ]
    },
    {
      "cell_type": "code",
      "source": [
        "# Remover espaços em branco\n",
        "mensagem = \"   Olá, mundo!   \"\n",
        "print(mensagem.strip())\n"
      ],
      "metadata": {
        "colab": {
          "base_uri": "https://localhost:8080/"
        },
        "id": "TULV-2OrmsaA",
        "outputId": "cad183fd-9f84-4d4d-f974-55bb0977e93d"
      },
      "execution_count": null,
      "outputs": [
        {
          "output_type": "stream",
          "name": "stdout",
          "text": [
            "Olá, mundo!\n"
          ]
        }
      ]
    },
    {
      "cell_type": "code",
      "source": [
        "# Retorna o número de caracteres, Comprimento da string\n",
        "\n",
        "frase = \"Python é incrível\"\n",
        "print(len(frase)) #Conta letras, espaços, acentos, pontuação\n"
      ],
      "metadata": {
        "colab": {
          "base_uri": "https://localhost:8080/"
        },
        "id": "A-rlgVmfmv8y",
        "outputId": "674e988d-2141-49b4-bac4-fa55dbaa7b1b"
      },
      "execution_count": null,
      "outputs": [
        {
          "output_type": "stream",
          "name": "stdout",
          "text": [
            "17\n"
          ]
        }
      ]
    },
    {
      "cell_type": "markdown",
      "source": [
        "## Verificadores de strings"
      ],
      "metadata": {
        "id": "y8-5hsSw750o"
      }
    },
    {
      "cell_type": "code",
      "source": [
        "#O método .isalpha() verifica se todos os caracteres da string são letras do alfabeto (A-Z, a-z).\n",
        "print(\"Python\".isalpha())  # Saída: True (todos os caracteres são letras)\n",
        "print(\"Python3\".isalpha()) # Saída: False (contém um número)\n",
        "print(\"Py thon\".isalpha()) # Saída: False (contém um espaço)\n",
        "print(\"\".isalpha())        # Saída: False (string vazia)"
      ],
      "metadata": {
        "id": "5EoLc1nt_QaP",
        "colab": {
          "base_uri": "https://localhost:8080/"
        },
        "outputId": "47910e05-66f5-4858-c61b-bb674944ca22"
      },
      "execution_count": null,
      "outputs": [
        {
          "output_type": "stream",
          "name": "stdout",
          "text": [
            "True\n",
            "False\n",
            "False\n",
            "False\n"
          ]
        }
      ]
    },
    {
      "cell_type": "code",
      "source": [
        "# O método .isnumeric() (ou .isdigit()) verifica se todos os caracteres da string são números (0-9).\n",
        "print(\"123\".isnumeric())    # Saída: True (apenas números)\n",
        "print(\"123\".isdigit())      # Saída: True (apenas números)\n",
        "print(\"12.3\".isnumeric())   # Saída: False (contém um ponto)\n",
        "print(\"12.3\".isdigit())     # Saída: False (contém um ponto)\n",
        "print(\"⅕\".isnumeric())      # Saída: True (caractere numérico em Unicode)\n",
        "print(\"⅕\".isdigit())        # Saída: False (não é um dígito de 0 a 9)\n",
        "print(\"Python\".isnumeric()) # Saída: False (contém letras)\n",
        "print(\"\".isnumeric())       # Saída: False (string vazia)"
      ],
      "metadata": {
        "id": "kn3P9jI1_grJ",
        "colab": {
          "base_uri": "https://localhost:8080/"
        },
        "outputId": "61c8d135-801a-494b-9f86-2c8e636f9d4b"
      },
      "execution_count": null,
      "outputs": [
        {
          "output_type": "stream",
          "name": "stdout",
          "text": [
            "True\n",
            "True\n",
            "False\n",
            "False\n",
            "True\n",
            "False\n",
            "False\n",
            "False\n"
          ]
        }
      ]
    },
    {
      "cell_type": "code",
      "source": [
        "# O método .isalnum() verifica se todos os caracteres da string são letras do alfabeto (A-Z, a-z) ou números (0-9)\n",
        "print(\"Python3\".isalnum())  # Saída: True (letras e números)\n",
        "print(\"Python!\".isalnum())  # Saída: False (contém um caractere especial)\n",
        "print(\"123\".isalnum())      # Saída: True (apenas números)\n",
        "print(\"Py thon\".isalnum())  # Saída: False (contém um espaço)\n",
        "print(\"\".isalnum())         # Saída: False (string vazia)"
      ],
      "metadata": {
        "id": "8rb6Spf__YuB",
        "colab": {
          "base_uri": "https://localhost:8080/"
        },
        "outputId": "0c8d1d35-108d-48c1-f699-db33f0b5fbfe"
      },
      "execution_count": null,
      "outputs": [
        {
          "output_type": "stream",
          "name": "stdout",
          "text": [
            "True\n",
            "False\n",
            "True\n",
            "False\n",
            "False\n"
          ]
        }
      ]
    },
    {
      "cell_type": "markdown",
      "source": [
        "# Estruturas Condicionais\n",
        "\n"
      ],
      "metadata": {
        "id": "nrvnSJdR0HHn"
      }
    },
    {
      "cell_type": "markdown",
      "source": [
        "## Marcadores e comparadores"
      ],
      "metadata": {
        "id": "sAF4Dbqjocrs"
      }
    },
    {
      "cell_type": "markdown",
      "source": [
        "### Comparadores\n",
        "\n",
        "Igual =\n",
        "\n",
        "Diferente !=\n",
        "\n",
        "Maior >\n",
        "\n",
        "Maior ou igual >=\n",
        "\n",
        "Menor <\n",
        "\n",
        "Menor ou igual <=\n"
      ],
      "metadata": {
        "id": "R8MZ_h7EZYID"
      }
    },
    {
      "cell_type": "markdown",
      "source": [
        "\n",
        "\n",
        "###Lógicos:\n",
        "\n",
        "and (e)\n",
        "\n",
        "or (ou)\n",
        "\n",
        "not (não)"
      ],
      "metadata": {
        "id": "V-0kOeSyZbg1"
      }
    },
    {
      "cell_type": "markdown",
      "source": [
        "## If, else e elif\n",
        "\n"
      ],
      "metadata": {
        "id": "DwFNzwYO7ZV5"
      }
    },
    {
      "cell_type": "markdown",
      "source": [
        "### if (se), else (senão)  e elif (senão se)"
      ],
      "metadata": {
        "id": "9EbVZVuyGWPX"
      }
    },
    {
      "cell_type": "code",
      "source": [
        "# Estrutura Simples de IF\n",
        "numero = 9\n",
        "if numero > 0: # Se \"numero\" for maior que zero...\n",
        "    print(\"O número é positivo.\")\n",
        "else:\n",
        "    print(\"O número é negativo.\")  # Saída: O número é negativo."
      ],
      "metadata": {
        "colab": {
          "base_uri": "https://localhost:8080/"
        },
        "id": "Ergc6SAB31sR",
        "outputId": "1aa4dfc9-2dc5-4afc-affc-6bd6d0722a9f"
      },
      "execution_count": null,
      "outputs": [
        {
          "output_type": "stream",
          "name": "stdout",
          "text": [
            "O número é positivo.\n"
          ]
        }
      ]
    },
    {
      "cell_type": "code",
      "source": [
        "# Estrutura Composta de IF\n",
        "numero = 0\n",
        "if numero > 0:  # Se \"numero\" for maior que zero:\n",
        "    print(\"O número é positivo.\")\n",
        "elif numero < 0: # Se \"numero\" for menor que zero:\n",
        "    print(\"O número é negativo.\")\n",
        "else: #Caso não seja nem maior e nem menor:\n",
        "    print(\"O número é zero.\")  # Saída: O número é zero."
      ],
      "metadata": {
        "colab": {
          "base_uri": "https://localhost:8080/"
        },
        "id": "feGNqxOL6uJn",
        "outputId": "40e66a7e-bee8-462e-f8c5-d4bac29c57a0"
      },
      "execution_count": null,
      "outputs": [
        {
          "output_type": "stream",
          "name": "stdout",
          "text": [
            "O número é zero.\n"
          ]
        }
      ]
    },
    {
      "cell_type": "code",
      "source": [
        "# Estrutura de IF dentro do IF\n",
        "idade = 18\n",
        "tem_carteira = True\n",
        "\n",
        "if idade >= 18: # Se \"idade\" maior igual a 18:\n",
        "    if tem_carteira: # Se \"idade\" maior igual a 18 e se tem carteira\n",
        "        print(\"Você pode dirigir.\")  # Saída: Você pode dirigir.\n",
        "    else: # Se \"idade\" maior igual a 18 e se não tem carteira\n",
        "        print(\"Você precisa de uma carteira de motorista.\")\n",
        "else: # Se \"idade\" menor igual a 18\n",
        "    print(\"Você é menor de idade e não pode dirigir.\")"
      ],
      "metadata": {
        "colab": {
          "base_uri": "https://localhost:8080/"
        },
        "id": "RB5oWRvq69TP",
        "outputId": "ca06db33-792f-40c2-c92c-6f4eb40ba8e2"
      },
      "execution_count": null,
      "outputs": [
        {
          "output_type": "stream",
          "name": "stdout",
          "text": [
            "Você pode dirigir.\n"
          ]
        }
      ]
    },
    {
      "cell_type": "code",
      "source": [
        "# Estrutura com IF NOT\n",
        "#if not: \"Se isso NÃO for verdadeiro, execute o bloco de código.\n",
        "\n",
        "tem_carteira = False\n",
        "\n",
        "if not tem_carteira: #Se não tem carteira\n",
        "    print(\"Você precisa de uma carteira de motorista.\")\n",
        "\n",
        "# É o mesmo que:\n",
        "\n",
        "tem_carteira = False\n",
        "\n",
        "if tem_carteira == False: #Se tiver carteira for falso\n",
        "    print(\"Você precisa de uma carteira de motorista.\")"
      ],
      "metadata": {
        "colab": {
          "base_uri": "https://localhost:8080/"
        },
        "id": "MC01WaSs-BZd",
        "outputId": "03cf2016-53b9-4c71-c062-685762cbadda"
      },
      "execution_count": null,
      "outputs": [
        {
          "output_type": "stream",
          "name": "stdout",
          "text": [
            "Você precisa de uma carteira de motorista.\n",
            "Você precisa de uma carteira de motorista.\n"
          ]
        }
      ]
    },
    {
      "cell_type": "markdown",
      "source": [
        "## Match/Case\n"
      ],
      "metadata": {
        "id": "PB4UqZV6ApKN"
      }
    },
    {
      "cell_type": "markdown",
      "source": [
        "###O match/case é uma estrutura de controle que permite comparar um valor com vários padrões (cases) e executar um bloco de código correspondente ao padrão que for encontrado."
      ],
      "metadata": {
        "id": "fEJnWJtFDQ29"
      }
    },
    {
      "cell_type": "code",
      "source": [
        "numero = 2\n",
        "\n",
        "match numero:\n",
        "    case 1:\n",
        "        print(\"Número é 1\")\n",
        "    case 2:\n",
        "        print(\"Número é 2\")  # Saída: Número é 2\n",
        "    case 3:\n",
        "        print(\"Número é 3\")\n",
        "    case _:\n",
        "        print(\"Número desconhecido\")"
      ],
      "metadata": {
        "colab": {
          "base_uri": "https://localhost:8080/"
        },
        "id": "oi0NJ02XArDa",
        "outputId": "2b4b01ca-7a31-44e2-8629-1bdc3b4a7b7a"
      },
      "execution_count": null,
      "outputs": [
        {
          "output_type": "stream",
          "name": "stdout",
          "text": [
            "Número é 2\n"
          ]
        }
      ]
    },
    {
      "cell_type": "code",
      "source": [
        "# Exemplo com input ao usuário\n",
        "\n",
        "idade = int(input(\"Digite sua idade: \"))\n",
        "\n",
        "match idade:\n",
        "    case x if x < 0:\n",
        "        print(\"Idade inválida!\")\n",
        "    case x if x < 18:\n",
        "        print(\"Você é menor de idade.\")\n",
        "    case x if x >= 100:\n",
        "        print(\"Você é centenário!\")\n",
        "    case _:\n",
        "        print(\"Você é maior de idade.\")"
      ],
      "metadata": {
        "colab": {
          "base_uri": "https://localhost:8080/"
        },
        "id": "to4LywqFDbsz",
        "outputId": "52f0df4b-b514-46cd-c15f-0577fb885a49"
      },
      "execution_count": null,
      "outputs": [
        {
          "output_type": "stream",
          "name": "stdout",
          "text": [
            "Digite sua idade: 40\n",
            "Você é maior de idade.\n"
          ]
        }
      ]
    },
    {
      "cell_type": "markdown",
      "source": [
        "# Estruturas de repetição\n"
      ],
      "metadata": {
        "id": "dL0xO7B6BQHE"
      }
    },
    {
      "cell_type": "markdown",
      "source": [
        "## For"
      ],
      "metadata": {
        "id": "s_ceL6LZBrKH"
      }
    },
    {
      "cell_type": "markdown",
      "source": [
        "“Para cada elemento em uma sequência, faça algo.”"
      ],
      "metadata": {
        "id": "rFEDTJRDM01g"
      }
    },
    {
      "cell_type": "code",
      "source": [
        "# For é um laço de repetição que percorre elementos de alguma sequencia requerida.\n",
        "\n",
        "alunos = [\"Ana\", \"Bruno\", \"Carla\"]\n",
        "\n",
        "for aluno in alunos:# Ou seja, para cada aluno em uma sequencia de alunos, execute o bloco abaixo.\n",
        "    print(\"Entregando caderno para\", aluno)\n",
        "\n"
      ],
      "metadata": {
        "colab": {
          "base_uri": "https://localhost:8080/"
        },
        "id": "-khH7E53H4tY",
        "outputId": "a90a4b13-2d5e-4001-8849-1701fbe25be0"
      },
      "execution_count": null,
      "outputs": [
        {
          "output_type": "stream",
          "name": "stdout",
          "text": [
            "Entregando caderno para Ana\n",
            "Entregando caderno para Bruno\n",
            "Entregando caderno para Carla\n"
          ]
        }
      ]
    },
    {
      "cell_type": "markdown",
      "source": [
        "### Exemplos"
      ],
      "metadata": {
        "id": "ETSoGrpRKTLi"
      }
    },
    {
      "cell_type": "markdown",
      "source": [
        "Iteração é o processo de percorrer um objeto iterável. Iterável é qualquer coisa que pode ser percorrida item por item em um laço for ou while."
      ],
      "metadata": {
        "id": "wHrzosUdtqwz"
      }
    },
    {
      "cell_type": "code",
      "source": [
        "# Com números\n",
        "numeros = [1, 2, 3, 4, 5]\n",
        "\n",
        "for numero in numeros:\n",
        "    print(numero) #Iterar é o mesmo que “passar item por item”"
      ],
      "metadata": {
        "colab": {
          "base_uri": "https://localhost:8080/"
        },
        "id": "8FWXAD2hZtI6",
        "outputId": "1968391e-e550-4d61-9b48-e7107c38ea4d"
      },
      "execution_count": null,
      "outputs": [
        {
          "output_type": "stream",
          "name": "stdout",
          "text": [
            "1\n",
            "2\n",
            "3\n",
            "4\n",
            "5\n"
          ]
        }
      ]
    },
    {
      "cell_type": "code",
      "source": [
        "#Com string\n",
        "\n",
        "palavra = \"Python\"\n",
        "\n",
        "for letra in palavra:\n",
        "    print(letra)"
      ],
      "metadata": {
        "colab": {
          "base_uri": "https://localhost:8080/"
        },
        "id": "sRVKgB6X8daJ",
        "outputId": "547bf338-69ef-4f67-8eb4-921160e82cda"
      },
      "execution_count": null,
      "outputs": [
        {
          "output_type": "stream",
          "name": "stdout",
          "text": [
            "P\n",
            "y\n",
            "t\n",
            "h\n",
            "o\n",
            "n\n"
          ]
        }
      ]
    },
    {
      "cell_type": "markdown",
      "source": [
        "### A função range()\n",
        "\n"
      ],
      "metadata": {
        "id": "4VKAe09W9Gx9"
      }
    },
    {
      "cell_type": "markdown",
      "source": [
        "#### Range significa \"faixa ou sequencia\" e gera uma sequência de números inteiros."
      ],
      "metadata": {
        "id": "5GanODRHKkfg"
      }
    },
    {
      "cell_type": "code",
      "source": [
        "#com range (stop)\n",
        "\n",
        "for i in range(5): #Quando se declara um número no range, ele percorre do 0 a esse número, neste caso até o 5\n",
        "    print(i)"
      ],
      "metadata": {
        "colab": {
          "base_uri": "https://localhost:8080/"
        },
        "id": "LFw1TjpI8vy1",
        "outputId": "558c3fe9-3bc5-480c-a082-7e685aff19b0"
      },
      "execution_count": null,
      "outputs": [
        {
          "output_type": "stream",
          "name": "stdout",
          "text": [
            "0\n",
            "1\n",
            "2\n",
            "3\n",
            "4\n"
          ]
        }
      ]
    },
    {
      "cell_type": "code",
      "source": [
        "#com range(start, stop)\n",
        "\n",
        "for i in range(2, 6):  #Quando se declara dois números, o primeiro define o inicio da sequencia e o segundo seu fim\n",
        "    print(i)"
      ],
      "metadata": {
        "colab": {
          "base_uri": "https://localhost:8080/"
        },
        "id": "NCweqUyr9fLl",
        "outputId": "9b5293a3-29e6-4d2d-ef71-e6e4263cd447"
      },
      "execution_count": null,
      "outputs": [
        {
          "output_type": "stream",
          "name": "stdout",
          "text": [
            "2\n",
            "3\n",
            "4\n",
            "5\n"
          ]
        }
      ]
    },
    {
      "cell_type": "code",
      "source": [
        "#com range(start, stop, step)\n",
        "\n",
        "for i in range(1, 10, 2):  # o terceiro número indica o comportamento, o passo, de quanto em quanto vai pular, neste caso de 2 em 2.\n",
        "\n",
        "\n",
        "    print(i)\n"
      ],
      "metadata": {
        "colab": {
          "base_uri": "https://localhost:8080/"
        },
        "id": "aSSKAdJI9mUo",
        "outputId": "91ebf649-1db0-46f9-efa2-cc5a9a27625f"
      },
      "execution_count": null,
      "outputs": [
        {
          "output_type": "stream",
          "name": "stdout",
          "text": [
            "1\n",
            "3\n",
            "5\n",
            "7\n",
            "9\n"
          ]
        }
      ]
    },
    {
      "cell_type": "code",
      "source": [
        "for i in range(10, 0, -2): #um passo negativo indica decrecimo\n",
        "    print(i)\n"
      ],
      "metadata": {
        "colab": {
          "base_uri": "https://localhost:8080/"
        },
        "id": "DZa-rJFaMXLH",
        "outputId": "783575f8-6af4-4cc2-f633-f7f6d0aabd2f"
      },
      "execution_count": null,
      "outputs": [
        {
          "output_type": "stream",
          "name": "stdout",
          "text": [
            "10\n",
            "8\n",
            "6\n",
            "4\n",
            "2\n"
          ]
        }
      ]
    },
    {
      "cell_type": "markdown",
      "source": [
        "### Enumerate()"
      ],
      "metadata": {
        "id": "-4sIUMsVtLeE"
      }
    },
    {
      "cell_type": "code",
      "source": [
        "nomes = ['Ana', 'João', 'Maria']\n",
        "\n",
        "for indice, nome in enumerate(nomes): #enumerate() numera os elementos de uma lista (ou qualquer objeto iterável) automaticament\n",
        "    print(f'{indice} - {nome}')\n"
      ],
      "metadata": {
        "colab": {
          "base_uri": "https://localhost:8080/"
        },
        "id": "OO7kTFWItPBu",
        "outputId": "e21d31f0-c2ee-4d7d-8106-eb35a467934d"
      },
      "execution_count": null,
      "outputs": [
        {
          "output_type": "stream",
          "name": "stdout",
          "text": [
            "0 - Ana\n",
            "1 - João\n",
            "2 - Maria\n"
          ]
        }
      ]
    },
    {
      "cell_type": "markdown",
      "source": [
        "## While"
      ],
      "metadata": {
        "id": "L3AiuEKtBkUp"
      }
    },
    {
      "cell_type": "markdown",
      "source": [
        "\"Enquanto essa condição for verdadeira, repita esse bloco de código.\""
      ],
      "metadata": {
        "id": "orDky1esMj1e"
      }
    },
    {
      "cell_type": "code",
      "source": [
        "contador = 5\n",
        "\n",
        "while contador > 0: #enquanto contador for maior que 0\n",
        "    print(contador) #printe contador\n",
        "    contador -= 1  #Decrementa o contador em 1 a cada iteração\n",
        "\n",
        "print(\"Fogo!\")"
      ],
      "metadata": {
        "id": "Fy3PhnJcBO9C"
      },
      "execution_count": null,
      "outputs": []
    },
    {
      "cell_type": "markdown",
      "source": [
        "### Interrupção: Break"
      ],
      "metadata": {
        "id": "cd47tOVVBtOZ"
      }
    },
    {
      "cell_type": "code",
      "source": [
        "while True:\n",
        "    numero = int(input(\"Digite um número (0 para sair): \"))\n",
        "    if numero == 0:\n",
        "        break  # Interrompe o loop\n",
        "    print(f\"Você digitou: {numero}\")\n",
        "\n",
        "print(\"Loop encerrado.\")"
      ],
      "metadata": {
        "id": "sOLR2HEbZuDu",
        "colab": {
          "base_uri": "https://localhost:8080/"
        },
        "outputId": "85574a7c-e53f-4a61-ce89-f7e71be945ef"
      },
      "execution_count": null,
      "outputs": [
        {
          "output_type": "stream",
          "name": "stdout",
          "text": [
            "Digite um número (0 para sair): 6\n",
            "Você digitou: 6\n",
            "Digite um número (0 para sair): 0\n",
            "Loop encerrado.\n"
          ]
        }
      ]
    },
    {
      "cell_type": "markdown",
      "source": [
        "# Variáveis Compostas/Estrutura de dados"
      ],
      "metadata": {
        "id": "TUxyiCAyD-Jy"
      }
    },
    {
      "cell_type": "markdown",
      "source": [
        "## Listas\n"
      ],
      "metadata": {
        "id": "aH5mirhZEt1y"
      }
    },
    {
      "cell_type": "markdown",
      "source": [
        "As listas são um estrutura lineares mutável de dados."
      ],
      "metadata": {
        "id": "TXESETw1HNK_"
      }
    },
    {
      "cell_type": "code",
      "source": [
        "# Lista de números\n",
        "numeros = [1, 2, 3, 4, 5]\n",
        "\n",
        "# Lista de strings\n",
        "frutas = [\"maçã\", \"banana\", \"laranja\"]\n",
        "\n",
        "# Lista mista\n",
        "mista = [1, \"Python\", 3.14, True]\n",
        "\n",
        "print(numeros)\n",
        "print(frutas)\n",
        "print(mista)"
      ],
      "metadata": {
        "id": "jTXpZUpbGW7C"
      },
      "execution_count": null,
      "outputs": []
    },
    {
      "cell_type": "code",
      "source": [
        "# Acessando a lista\n",
        "\n",
        "frutas = [\"maçã\", \"banana\", \"laranja\"] #Cada elemento da lista tem um número de posição, chamado de índice.\n",
        "# Índices começam do zero\n",
        "\n",
        "print(frutas[0])  # Saída: maçã, posição 0, o primeiro item.\n",
        "print(frutas[2])  # Saída: laranja, posição 2, o terceiro item."
      ],
      "metadata": {
        "id": "CB4SMPN4HG0D",
        "colab": {
          "base_uri": "https://localhost:8080/"
        },
        "outputId": "e3b45b87-9bcc-41de-9daf-15a6df7ee96d"
      },
      "execution_count": null,
      "outputs": [
        {
          "output_type": "stream",
          "name": "stdout",
          "text": [
            "maçã\n",
            "laranja\n"
          ]
        }
      ]
    },
    {
      "cell_type": "code",
      "source": [
        "# Python também permite usar índices negativos para acessar de trás para frente\n",
        "print(frutas[-1])  # \"laranja\", posição -1, o último item.\n",
        "print(frutas[-3])  # \"maça\", posição -3, o primeiro item."
      ],
      "metadata": {
        "colab": {
          "base_uri": "https://localhost:8080/"
        },
        "id": "E89FFnDtPVcF",
        "outputId": "f99fba58-0327-4059-8359-e0bc1d1cdb67"
      },
      "execution_count": null,
      "outputs": [
        {
          "output_type": "stream",
          "name": "stdout",
          "text": [
            "laranja\n",
            "maçã\n"
          ]
        }
      ]
    },
    {
      "cell_type": "code",
      "source": [
        "# range() para acessar índices de uma lista\n",
        "\n",
        "frutas = [\"maçã\", \"banana\", \"laranja\"]\n",
        "\n",
        "for i in range(len(frutas)):\n",
        "    print(f\"Índice {i}: {frutas[i]}\")"
      ],
      "metadata": {
        "id": "eapIbcB1-c9l"
      },
      "execution_count": null,
      "outputs": []
    },
    {
      "cell_type": "markdown",
      "source": [
        "### Funções para a manipulação de listas"
      ],
      "metadata": {
        "id": "50UaiD81Gw4x"
      }
    },
    {
      "cell_type": "code",
      "source": [
        "# append()\n",
        "\n",
        "frutas = [\"maçã\", \"banana\", \"laranja\"]\n",
        "frutas.append(\"Jaca\") # Adiciona um elemento ao final da lista.\n",
        "print(frutas)"
      ],
      "metadata": {
        "id": "vjjXyOqGIupp"
      },
      "execution_count": null,
      "outputs": []
    },
    {
      "cell_type": "code",
      "source": [
        "# insert()\n",
        "# Insere um elemento em uma posição específica da lista.\n",
        "\n",
        "frutas = [\"maçã\", \"banana\", \"laranja\"]\n",
        "frutas.insert(1, \"morango\")  # Insere \"morango\" na posição 1\n",
        "print(frutas)"
      ],
      "metadata": {
        "id": "WSCzyxEjHOeU",
        "colab": {
          "base_uri": "https://localhost:8080/"
        },
        "outputId": "76ad6d06-51e0-4301-8f47-bbd82c004234"
      },
      "execution_count": null,
      "outputs": [
        {
          "output_type": "stream",
          "name": "stdout",
          "text": [
            "['maçã', 'morango', 'banana', 'laranja']\n"
          ]
        }
      ]
    },
    {
      "cell_type": "code",
      "source": [
        "# remove(), pop() e del\n",
        "\n",
        "frutas = [\"maçã\", \"banana\", \"laranja\"]\n",
        "frutas.remove(\"banana\")  # Remove \"banana\".\n",
        "frutas.pop(1)  # Remove o elemento na posição 1\n",
        "del frutas[0]  # deleta o elemento na posição 0\n",
        "print(frutas)  # Saída: []"
      ],
      "metadata": {
        "id": "uqfampECHT-R",
        "colab": {
          "base_uri": "https://localhost:8080/"
        },
        "outputId": "a84a5c21-442d-42d1-d9e1-05a4cd772ecf"
      },
      "execution_count": null,
      "outputs": [
        {
          "output_type": "stream",
          "name": "stdout",
          "text": [
            "[]\n"
          ]
        }
      ]
    },
    {
      "cell_type": "code",
      "source": [
        "#pop()\n",
        "\n",
        "frutas = [\"maçã\", \"banana\", \"laranja\"]\n",
        "frutas.pop(1) #A função pop() é usada para remover e retornar o elemento de uma posição específica da lista."
      ],
      "metadata": {
        "colab": {
          "base_uri": "https://localhost:8080/",
          "height": 35
        },
        "id": "DbxuYYxuRuOl",
        "outputId": "0a02edb7-02ab-40bf-c7fd-7c6d98b7d685"
      },
      "execution_count": null,
      "outputs": [
        {
          "output_type": "execute_result",
          "data": {
            "text/plain": [
              "'uva'"
            ],
            "application/vnd.google.colaboratory.intrinsic+json": {
              "type": "string"
            }
          },
          "metadata": {},
          "execution_count": 19
        }
      ]
    },
    {
      "cell_type": "code",
      "source": [
        "# clear()\n",
        "\n",
        "frutas = [\"maçã\", \"banana\", \"laranja\"]\n",
        "frutas.clear() # Remove todos os elementos da lista.\n",
        "print(frutas)  # Saída: []"
      ],
      "metadata": {
        "id": "ehkHf1FcHcMo"
      },
      "execution_count": null,
      "outputs": []
    },
    {
      "cell_type": "code",
      "source": [
        "# sort()\n",
        "\n",
        "frutas = [\"maçã\", \"banana\", \"laranja\"]\n",
        "frutas.sort() #Ordenar\n",
        "print(frutas)"
      ],
      "metadata": {
        "colab": {
          "base_uri": "https://localhost:8080/"
        },
        "id": "LSNiIBMSR8Bb",
        "outputId": "6b389e4c-2535-4f64-af83-389949257c07"
      },
      "execution_count": null,
      "outputs": [
        {
          "output_type": "stream",
          "name": "stdout",
          "text": [
            "['banana', 'laranja', 'maçã']\n"
          ]
        }
      ]
    },
    {
      "cell_type": "markdown",
      "source": [
        "## Matriz/Listas dentro de listas"
      ],
      "metadata": {
        "id": "d7HAmdyMWBrQ"
      }
    },
    {
      "cell_type": "code",
      "source": [
        "notas = [\n",
        "    [8.0, 7.5, 9.0],  # aluno 1\n",
        "    [6.5, 5.0, 7.0],  # aluno 2\n",
        "    [10.0, 9.5, 9.0]  # aluno 3\n",
        "]\n",
        "\n",
        "print(notas[0][1])  # 7.5 → segunda nota do aluno 1, notas[linha][coluna]\n",
        "print(notas[2][0])  # 10.0 → primeira nota do aluno 3, notas[linha][coluna]\n"
      ],
      "metadata": {
        "colab": {
          "base_uri": "https://localhost:8080/"
        },
        "id": "t1UxSACeWW9e",
        "outputId": "f411f647-e4b6-433e-9940-8f611f39d4c9"
      },
      "execution_count": null,
      "outputs": [
        {
          "output_type": "stream",
          "name": "stdout",
          "text": [
            "7.5\n",
            "10.0\n"
          ]
        }
      ]
    },
    {
      "cell_type": "code",
      "source": [
        "# Declaração por partes:\n",
        "\n",
        "lanche = ['Lanche', 10.9]\n",
        "batata = ['Batata', 5.5]\n",
        "refri  = ['Refri' , 3.9]\n",
        "\n",
        "cardapio = [lanche, batata, refri]\n",
        "print(cardapio)"
      ],
      "metadata": {
        "colab": {
          "base_uri": "https://localhost:8080/"
        },
        "id": "xPhmgRGtX0F7",
        "outputId": "c8eb3e91-aed8-4095-a509-5d390da0a75f"
      },
      "execution_count": null,
      "outputs": [
        {
          "output_type": "stream",
          "name": "stdout",
          "text": [
            "[['Lanche', 10.9], ['Batata', 5.5], ['Refri', 3.9]]\n"
          ]
        }
      ]
    },
    {
      "cell_type": "code",
      "source": [
        "# Declaração direta:\n",
        "\n",
        "cardapio = [['Lanche', 10.9], ['Batata', 5.5], ['Refri' , 3.9]]\n",
        "print(cardapio)\n",
        "print(cardapio[1][0])"
      ],
      "metadata": {
        "colab": {
          "base_uri": "https://localhost:8080/"
        },
        "id": "BOWmP0AYX9ya",
        "outputId": "46894146-8659-4608-ec98-6c3eb0cdcec9"
      },
      "execution_count": null,
      "outputs": [
        {
          "output_type": "stream",
          "name": "stdout",
          "text": [
            "[['Lanche', 10.9], ['Batata', 5.5], ['Refri', 3.9]]\n",
            "Batata\n"
          ]
        }
      ]
    },
    {
      "cell_type": "code",
      "source": [
        "cardapio = []\n",
        "comida = []\n",
        "\n",
        "for c in range(0, 3):\n",
        "    comida.append(str(input('Nome da comida: ')))\n",
        "    comida.append(float(input('Preço da comida: ')))\n",
        "    cardapio.append(comida[:])\n",
        "    comida.clear()  # limpando a memória da variável\n",
        "print(cardapio)"
      ],
      "metadata": {
        "colab": {
          "base_uri": "https://localhost:8080/"
        },
        "id": "8kS1VN9aZKex",
        "outputId": "5bf80a99-8153-4614-e0e9-edcf3d2ea41e"
      },
      "execution_count": null,
      "outputs": [
        {
          "output_type": "stream",
          "name": "stdout",
          "text": [
            "Nome da comida: haah\n",
            "Preço da comida: 33\n",
            "Nome da comida: uuw\n",
            "Preço da comida: 77\n",
            "Nome da comida: hshsh\n",
            "Preço da comida: 1\n",
            "[['haah', 33.0], ['uuw', 77.0], ['hshsh', 1.0]]\n"
          ]
        }
      ]
    },
    {
      "cell_type": "markdown",
      "source": [
        "## List comprehension"
      ],
      "metadata": {
        "id": "ifRbrWU60QBy"
      }
    },
    {
      "cell_type": "markdown",
      "source": [
        " É uma forma rápida e compacta de criar listas novas a partir de uma sequência"
      ],
      "metadata": {
        "id": "G8vYSUya218n"
      }
    },
    {
      "cell_type": "code",
      "source": [
        "# Forma tradicional:\n",
        "quadrados = []\n",
        "for i in range(5):\n",
        "    quadrados.append(i * i) #os quadrados dos números de 0 até 4, ou seja, ele vezes ele mesmo.\n",
        "print(quadrados)\n"
      ],
      "metadata": {
        "colab": {
          "base_uri": "https://localhost:8080/"
        },
        "id": "5F9wX4HL0X16",
        "outputId": "e80e3d42-17b5-4e65-cad1-c5e77aeb7513"
      },
      "execution_count": null,
      "outputs": [
        {
          "output_type": "stream",
          "name": "stdout",
          "text": [
            "[0, 1, 4, 9, 16]\n"
          ]
        }
      ]
    },
    {
      "cell_type": "code",
      "source": [
        "# Em list comprehension\n",
        "quadrados = [i * i for i in range(5)] #Quadrado será i vezes i para cada i de 1 a 4.\n",
        "print(quadrados)\n"
      ],
      "metadata": {
        "id": "JC3Z8cD10bAW"
      },
      "execution_count": null,
      "outputs": []
    },
    {
      "cell_type": "code",
      "source": [
        "# Forma tradicional:\n",
        "dobros = []                # Lista vazia\n",
        "for n in range(1, 6):      # Para cada número de 1 até 5\n",
        "    dobros.append(n * 2)   # Multiplica por 2 e adiciona na lista\n",
        "print(dobros)\n"
      ],
      "metadata": {
        "colab": {
          "base_uri": "https://localhost:8080/"
        },
        "id": "SyVaal1R2rhz",
        "outputId": "f47fa22b-d123-4b64-f499-150f936ae66c"
      },
      "execution_count": null,
      "outputs": [
        {
          "output_type": "stream",
          "name": "stdout",
          "text": [
            "[2, 4, 6, 8, 10]\n"
          ]
        }
      ]
    },
    {
      "cell_type": "code",
      "source": [
        "## Em list comprehension\n",
        "dobros = [n * 2 for n in range(1, 6)] #[expressão for item in iterável if condição]\n",
        "print(dobros)\n"
      ],
      "metadata": {
        "colab": {
          "base_uri": "https://localhost:8080/"
        },
        "id": "dpnKxSCQ2rR9",
        "outputId": "9b4f3875-b171-429e-84ac-6282938cb2ff"
      },
      "execution_count": null,
      "outputs": [
        {
          "output_type": "stream",
          "name": "stdout",
          "text": [
            "[2, 4, 6, 8, 10]\n"
          ]
        }
      ]
    },
    {
      "cell_type": "markdown",
      "source": [
        "## Tuplas\n"
      ],
      "metadata": {
        "id": "dkPcGPC0EXyF"
      }
    },
    {
      "cell_type": "markdown",
      "source": [
        "As tuplas são uma estrutura de dados em Python semelhante às listas, mas com uma característica fundamental: são imutáveis.\n",
        "Uma tupla é como uma caixa lacrada com valores.\n",
        "Você pode olhar dentro da caixa, mas não pode trocar nada lá dentro."
      ],
      "metadata": {
        "id": "EQhvYDg1S5ki"
      }
    },
    {
      "cell_type": "code",
      "source": [
        "# Tupla de números\n",
        "numeros = (1, 2, 3, 4, 5)\n",
        "\n",
        "# Tupla de strings\n",
        "frutas = (\"maçã\", \"banana\", \"laranja\")\n",
        "\n",
        "# Tupla mista\n",
        "mista = (1, \"Python\", 3.14, True)\n",
        "\n",
        "print(numeros)\n",
        "print(frutas)\n",
        "print(mista)"
      ],
      "metadata": {
        "id": "3kcIz9jAEXNp",
        "colab": {
          "base_uri": "https://localhost:8080/"
        },
        "outputId": "f4d28828-f03a-4f8a-c4e9-c77a132615bd"
      },
      "execution_count": null,
      "outputs": [
        {
          "output_type": "stream",
          "name": "stdout",
          "text": [
            "(1, 2, 3, 4, 5)\n",
            "('maçã', 'banana', 'laranja')\n",
            "(1, 'Python', 3.14, True)\n"
          ]
        }
      ]
    },
    {
      "cell_type": "code",
      "source": [
        "# Acessando tuplas pelo índice\n",
        "\n",
        "frutas = (\"maçã\", \"banana\", \"laranja\")\n",
        "\n",
        "print(frutas[0])  # Saída: maçã"
      ],
      "metadata": {
        "colab": {
          "base_uri": "https://localhost:8080/"
        },
        "id": "1T-4GGo5FHs5",
        "outputId": "9f6250f4-18a7-40ed-ac51-fd88a2cea134"
      },
      "execution_count": null,
      "outputs": [
        {
          "output_type": "stream",
          "name": "stdout",
          "text": [
            "maçã\n"
          ]
        }
      ]
    },
    {
      "cell_type": "code",
      "source": [
        "# Das tuplas, pode-se \"desempacotá-las\" atribuindo seus valores a variáveis\n",
        "\n",
        "coordenadas = (10, 20)\n",
        "x, y = coordenadas  # Desempacotamento\n",
        "print(x)  # Saída: 10\n",
        "print(y)  # Saída: 20"
      ],
      "metadata": {
        "colab": {
          "base_uri": "https://localhost:8080/"
        },
        "id": "HHEwEdaSFOMu",
        "outputId": "716f555c-e419-454f-df1d-8b17e9117eb8"
      },
      "execution_count": null,
      "outputs": [
        {
          "output_type": "stream",
          "name": "stdout",
          "text": [
            "10\n",
            "20\n"
          ]
        }
      ]
    },
    {
      "cell_type": "markdown",
      "source": [
        "### Manipulação com tuplas"
      ],
      "metadata": {
        "id": "KhSHkne6FtM_"
      }
    },
    {
      "cell_type": "code",
      "source": [
        "# Concatenar\n",
        "\n",
        "tupla1 = (1, 2, 3)\n",
        "tupla2 = (4, 5, 6)\n",
        "tupla3 = tupla1 + tupla2\n",
        "print(tupla3)  # Saída: (1, 2, 3, 4, 5, 6)"
      ],
      "metadata": {
        "id": "-ZYEj1BXFomL"
      },
      "execution_count": null,
      "outputs": []
    },
    {
      "cell_type": "code",
      "source": [
        "# Repetir/Replicar\n",
        "\n",
        "tupla = (1, 2)\n",
        "tupla_repetida = tupla * 3\n",
        "print(tupla_repetida)  # Saída: (1, 2, 1, 2, 1, 2)"
      ],
      "metadata": {
        "colab": {
          "base_uri": "https://localhost:8080/"
        },
        "id": "FLGchtJDF5po",
        "outputId": "6fcc7b08-0970-4231-ab82-8c539b03c593"
      },
      "execution_count": null,
      "outputs": [
        {
          "output_type": "stream",
          "name": "stdout",
          "text": [
            "(1, 2, 1, 2, 1, 2)\n"
          ]
        }
      ]
    },
    {
      "cell_type": "code",
      "source": [
        "# Verificar com in\n",
        "\n",
        "frutas = (\"maçã\", \"banana\", \"laranja\")\n",
        "print(\"banana\" in frutas)  # Saída: True\n",
        "print(\"uva\" in frutas)     # Saída: False"
      ],
      "metadata": {
        "colab": {
          "base_uri": "https://localhost:8080/"
        },
        "id": "0kkevPnLGBj6",
        "outputId": "8f03a725-cf63-462c-ba4a-f2ed089e2694"
      },
      "execution_count": null,
      "outputs": [
        {
          "output_type": "stream",
          "name": "stdout",
          "text": [
            "True\n",
            "False\n"
          ]
        }
      ]
    },
    {
      "cell_type": "code",
      "source": [
        "# Tamanho, com len()\n",
        "\n",
        "numeros = (1, 2, 3, 4, 5)\n",
        "print(len(numeros))  # Saída: 5"
      ],
      "metadata": {
        "id": "f1m9LbyRGIJq"
      },
      "execution_count": null,
      "outputs": []
    },
    {
      "cell_type": "markdown",
      "source": [
        "## Dicionário"
      ],
      "metadata": {
        "id": "aCuWd02lTm8U"
      }
    },
    {
      "cell_type": "markdown",
      "source": [
        "Um dicionário guarda pares de informações: uma chave (nome) e um valor (dado). Por isso, sua estrutura é composta de chave:valor."
      ],
      "metadata": {
        "id": "aQsV0W5NUdxn"
      }
    },
    {
      "cell_type": "code",
      "source": [
        "aluno = {\n",
        "    \"nome\": \"Ana\",\n",
        "    \"idade\": 16,\n",
        "    \"nota\": 9.5\n",
        "}\n",
        "\n",
        "#acessando valores:\n",
        "\n",
        "print(aluno[\"nome\"])   # Ana\n",
        "print(aluno[\"nota\"])   # 9.5\n"
      ],
      "metadata": {
        "colab": {
          "base_uri": "https://localhost:8080/"
        },
        "id": "N6a9esd6Ubt-",
        "outputId": "38dfff8e-d07c-4a6c-8544-653960656a4f"
      },
      "execution_count": null,
      "outputs": [
        {
          "output_type": "stream",
          "name": "stdout",
          "text": [
            "Ana\n",
            "9.5\n"
          ]
        }
      ]
    },
    {
      "cell_type": "code",
      "source": [
        "alunos = {\n",
        "    \"aluno1\": {\"nome\": \"Ana\", \"idade\": 16, \"nota\": 9.5},\n",
        "    \"aluno2\": {\"nome\": \"Bruno\", \"idade\": 17, \"nota\": 8.0},\n",
        "    \"aluno3\": {\"nome\": \"Carla\", \"idade\": 15, \"nota\": 10.0}\n",
        "}\n",
        "\n",
        "#acessando valores:\n",
        "print(alunos[\"aluno3\"][\"nota\"])"
      ],
      "metadata": {
        "colab": {
          "base_uri": "https://localhost:8080/"
        },
        "id": "U7iAfpGrUtxK",
        "outputId": "6b5bfc96-1d95-4a91-a04f-04b8dc1b9e74"
      },
      "execution_count": null,
      "outputs": [
        {
          "output_type": "stream",
          "name": "stdout",
          "text": [
            "10.0\n"
          ]
        }
      ]
    },
    {
      "cell_type": "code",
      "source": [
        "for chave in alunos:\n",
        "    print(\"ID:\", chave)\n",
        "    print(\"Nome:\", alunos[chave][\"nome\"])\n",
        "    print(\"Idade:\", alunos[chave][\"idade\"])\n",
        "    print(\"Nota:\", alunos[chave][\"nota\"])\n",
        "    print(\"---\")\n"
      ],
      "metadata": {
        "colab": {
          "base_uri": "https://localhost:8080/"
        },
        "id": "yohiKxvZVpNC",
        "outputId": "5a7993a5-3aba-4989-8816-6a52e3212dcc"
      },
      "execution_count": null,
      "outputs": [
        {
          "output_type": "stream",
          "name": "stdout",
          "text": [
            "ID: aluno1\n",
            "Nome: Ana\n",
            "Idade: 16\n",
            "Nota: 9.5\n",
            "---\n",
            "ID: aluno2\n",
            "Nome: Bruno\n",
            "Idade: 17\n",
            "Nota: 8.0\n",
            "---\n",
            "ID: aluno3\n",
            "Nome: Carla\n",
            "Idade: 15\n",
            "Nota: 10.0\n",
            "---\n"
          ]
        }
      ]
    },
    {
      "cell_type": "markdown",
      "source": [
        "### Manipulação de dicionário"
      ],
      "metadata": {
        "id": "yehrrzsMikYN"
      }
    },
    {
      "cell_type": "code",
      "source": [
        "#Modificar Valor\n",
        "fruta  =  { 'manga' :  10 ,  'laranja' :  10 ,  'melancia' :  1 }\n",
        "print(fruta)\n",
        "fruta[ 'manga' ] = 20\n",
        "print(fruta)\n",
        "print(fruta['manga'])"
      ],
      "metadata": {
        "colab": {
          "base_uri": "https://localhost:8080/"
        },
        "id": "UADqoLo6h3Xo",
        "outputId": "792a89a0-eb56-4271-b881-f1f58ed1e598"
      },
      "execution_count": null,
      "outputs": [
        {
          "output_type": "stream",
          "name": "stdout",
          "text": [
            "{'manga': 10, 'laranja': 10, 'melancia': 1}\n",
            "{'manga': 20, 'laranja': 10, 'melancia': 1}\n",
            "20\n"
          ]
        }
      ]
    },
    {
      "cell_type": "markdown",
      "source": [
        "### Funções"
      ],
      "metadata": {
        "id": "AL4WcyyskuiR"
      }
    },
    {
      "cell_type": "code",
      "source": [
        "#A função  keys()  elenca uma lista de todas as chaves existente no dicionário.\n",
        "fruta  =  { 'manga' :  10 ,  'laranja' :  10 ,  'melancia' :  1 }\n",
        "print (fruta.keys())"
      ],
      "metadata": {
        "colab": {
          "base_uri": "https://localhost:8080/"
        },
        "id": "r0pPwxNFkkDU",
        "outputId": "c6814d16-0783-4c99-90b1-aa89ea8878e9"
      },
      "execution_count": null,
      "outputs": [
        {
          "output_type": "stream",
          "name": "stdout",
          "text": [
            "dict_keys(['manga', 'laranja', 'melancia'])\n"
          ]
        }
      ]
    },
    {
      "cell_type": "code",
      "source": [
        "# A função values()  elenca uma lista de todas os valores existente no dicionário.\n",
        "fruta  =  { 'manga' :  10 ,  'laranja' :  10 ,  'melancia' :  1 }\n",
        "print (fruta.values())\n"
      ],
      "metadata": {
        "colab": {
          "base_uri": "https://localhost:8080/"
        },
        "id": "Erq34cY0lc7K",
        "outputId": "7f24dff4-2f18-4fe2-dd6a-09eb97a4fa88"
      },
      "execution_count": null,
      "outputs": [
        {
          "output_type": "stream",
          "name": "stdout",
          "text": [
            "dict_values([10, 10, 1])\n"
          ]
        }
      ]
    },
    {
      "cell_type": "code",
      "source": [
        "# A função itens()  elenca uma lista com todos os pares de chaves e valores existente no dicionário.\n",
        "\n",
        "fruta  =  { 'manga' :  10 ,  'laranja' :  10 ,  'melancia' :  1 }\n",
        "print (fruta.items())\n"
      ],
      "metadata": {
        "colab": {
          "base_uri": "https://localhost:8080/"
        },
        "id": "U1_qVdNjltp2",
        "outputId": "74709e75-d977-4243-b528-22f9e6c0d64a"
      },
      "execution_count": null,
      "outputs": [
        {
          "output_type": "stream",
          "name": "stdout",
          "text": [
            "dict_items([('manga', 10), ('laranja', 10), ('melancia', 1)])\n"
          ]
        }
      ]
    },
    {
      "cell_type": "code",
      "source": [
        "# A função copy() forma copia de todos os itens de um dicionário\n",
        "fruta  =  { 'manga' :  10 ,  'laranja' :  10 ,  'melancia' :  1 }\n",
        "frutas_2 = fruta.copy()\n",
        "print(frutas_2)\n"
      ],
      "metadata": {
        "colab": {
          "base_uri": "https://localhost:8080/"
        },
        "id": "2GhJXKr5l_hh",
        "outputId": "f38979dd-eb65-4ed2-b1c5-bd3eb5d4656e"
      },
      "execution_count": null,
      "outputs": [
        {
          "output_type": "stream",
          "name": "stdout",
          "text": [
            "{'manga': 10, 'laranja': 10, 'melancia': 1}\n"
          ]
        }
      ]
    },
    {
      "cell_type": "code",
      "source": [
        "# A função clear() apaga todos os itens do dicionário\n",
        "fruta  =  { 'manga' :  10 ,  'laranja' :  10 ,  'melancia' :  1 }\n",
        "fruta.clear()\n",
        "print(fruta)\n"
      ],
      "metadata": {
        "id": "QANyhDExmEe9"
      },
      "execution_count": null,
      "outputs": []
    },
    {
      "cell_type": "code",
      "source": [
        "# A função get() retorna o valor correspondente a chave\n",
        "fruta  =  { 'manga' :  10 ,  'laranja' :  10 ,  'melancia' :  1 }\n",
        "print (fruta.get( 'manga' ))\n"
      ],
      "metadata": {
        "colab": {
          "base_uri": "https://localhost:8080/"
        },
        "id": "PcLOQGfbmKwH",
        "outputId": "e171d7b2-92c0-4ff6-e1bf-16ba232f6868"
      },
      "execution_count": null,
      "outputs": [
        {
          "output_type": "stream",
          "name": "stdout",
          "text": [
            "10\n"
          ]
        }
      ]
    },
    {
      "cell_type": "code",
      "source": [
        "# se a chave requedida com get() não existir, ela retornará um valor padrão (vazio)\n",
        "fruta  =  { 'manga' :  10 ,  'laranja' :  10 ,  'melancia' :  1 }\n",
        "print (fruta.get( 'pera' ))"
      ],
      "metadata": {
        "colab": {
          "base_uri": "https://localhost:8080/"
        },
        "id": "RrOGVZconFLy",
        "outputId": "75c6d4c2-ae94-4dbd-b00d-b933bd3ae33c"
      },
      "execution_count": null,
      "outputs": [
        {
          "output_type": "stream",
          "name": "stdout",
          "text": [
            "None\n"
          ]
        }
      ]
    },
    {
      "cell_type": "code",
      "source": [
        "# a função update() insere itens no dicionário (chave-valor).\n",
        "fruta  =  { 'manga' :  10 ,  'laranja' :  10 ,  'melancia' :  1 }\n",
        "fruta.update({'uva':15})\n",
        "print(fruta)\n"
      ],
      "metadata": {
        "colab": {
          "base_uri": "https://localhost:8080/"
        },
        "id": "RfugllJJmOr4",
        "outputId": "3664e224-be47-4232-c2cc-05a84189000c"
      },
      "execution_count": null,
      "outputs": [
        {
          "output_type": "stream",
          "name": "stdout",
          "text": [
            "{'manga': 10, 'laranja': 10, 'melancia': 1, 'uva': 15}\n"
          ]
        }
      ]
    },
    {
      "cell_type": "code",
      "source": [
        "# A função pop () é usada para remover um elemento com uma chave específica.\n",
        "fruta  =  { 'manga' :  10 ,  'laranja' :  10 ,  'melancia' :  1 }\n",
        "fruta.pop('manga')\n",
        "print (fruta)\n",
        "# A palavra pop, em inglês, pode ser traduzida como “estourar”, “retirar com um estalo” ou até mesmo “tirar rapidamente”."
      ],
      "metadata": {
        "colab": {
          "base_uri": "https://localhost:8080/"
        },
        "id": "2vjM26bbmPXW",
        "outputId": "5e88c048-cb9f-4fdc-9e06-fae2b7b32b7f"
      },
      "execution_count": null,
      "outputs": [
        {
          "output_type": "stream",
          "name": "stdout",
          "text": [
            "{'laranja': 10, 'melancia': 1}\n"
          ]
        }
      ]
    },
    {
      "cell_type": "code",
      "source": [
        "# A função len() descreve o tamanho do dicionário\n",
        "fruta  =  { 'manga' :  10 ,  'laranja' :  10 ,  'melancia' :  1 }\n",
        "print (len(fruta))"
      ],
      "metadata": {
        "colab": {
          "base_uri": "https://localhost:8080/"
        },
        "id": "0ZlsbllTmRvg",
        "outputId": "4feb0590-4793-4afe-ae8a-5011cab1dc7f"
      },
      "execution_count": null,
      "outputs": [
        {
          "output_type": "stream",
          "name": "stdout",
          "text": [
            "3\n"
          ]
        }
      ]
    },
    {
      "cell_type": "markdown",
      "source": [
        "# Funções"
      ],
      "metadata": {
        "id": "rromNomqiQPU"
      }
    },
    {
      "cell_type": "markdown",
      "source": [
        "uma função é um bloco de código organizado que executa uma tarefa específica e pode ser reutilizada várias vezes em um programa.\n",
        "- Vem de \"define\" (em inglês, \"definir\")."
      ],
      "metadata": {
        "id": "WVq2U1TQS-58"
      }
    },
    {
      "cell_type": "code",
      "source": [
        "def media_num(n1, n2): # def indica que é uma função, \"media\" é seu nome. E dentro de () é o parametro recebido.\n",
        "    media = (n1 + n2) / 2\n",
        "    return media #return indica a ação que será realizada, devolve um valor\n",
        "\n",
        "num1 = float((\"Digite o primeiro valor: \"))\n",
        "num2 = float(input(\"Digite o segundo valor: \"))\n",
        "\n",
        "media = media_num(num1, num2) #nome_da_função(parametros) chama a função\n",
        "print(\"A média dos valores é: \", media)\n"
      ],
      "metadata": {
        "colab": {
          "base_uri": "https://localhost:8080/"
        },
        "id": "XJgiqqui1TzN",
        "outputId": "6e40d090-cea9-469f-8d7a-19605053ef01"
      },
      "execution_count": null,
      "outputs": [
        {
          "output_type": "stream",
          "name": "stdout",
          "text": [
            "Digite o primeiro valor: 7.5\n",
            "Digite o segundo valor: 8\n",
            "A média dos valores é:  7.75\n"
          ]
        }
      ]
    },
    {
      "cell_type": "code",
      "source": [
        "def contar_palavras(frase):\n",
        "    palavras = frase.split()\n",
        "    return len(palavras)\n",
        "\n",
        "frase_teste = input(\"Digite uma frase: \")\n",
        "qnt_palavras = contar_palavras(frase_teste)\n",
        "print(f'A frase tem {qnt_palavras} palavras!')\n"
      ],
      "metadata": {
        "id": "4_EDI1AggjXb",
        "outputId": "09c81cfd-065c-4331-ad4f-760ac10841ed",
        "colab": {
          "base_uri": "https://localhost:8080/"
        }
      },
      "execution_count": null,
      "outputs": [
        {
          "output_type": "stream",
          "name": "stdout",
          "text": [
            "Digite uma frase: amigo\n",
            "A frase tem 1 palavras!\n"
          ]
        }
      ]
    },
    {
      "cell_type": "code",
      "source": [
        "def saudacao(nome):\n",
        "    print(f\"Olá, {nome}!\")\n",
        "\n",
        "saudacao(\"Davi\")\n",
        "saudacao(\"Carlos\")\n",
        "saudacao(\"Maria\")\n",
        "saudacao(\"Pedro\")\n",
        "\n",
        "# Funções também são chamadas de Sub-programas, Sub-rotinas e Procedimentos ​\n"
      ],
      "metadata": {
        "id": "8Jc4AQ4nlry0",
        "colab": {
          "base_uri": "https://localhost:8080/"
        },
        "outputId": "b9ff6e6f-15d8-48aa-c00f-c2d5c7f67fdf"
      },
      "execution_count": null,
      "outputs": [
        {
          "output_type": "stream",
          "name": "stdout",
          "text": [
            "Olá, Davi!\n",
            "Olá, Carlos!\n"
          ]
        }
      ]
    },
    {
      "cell_type": "markdown",
      "source": [
        "# Manipulação de Arquivos"
      ],
      "metadata": {
        "id": "kubRJNgIqJ5z"
      }
    },
    {
      "cell_type": "code",
      "source": [
        "file = open(\"frutas_feira.txt\", \"a\")\n",
        "print(file)"
      ],
      "metadata": {
        "colab": {
          "base_uri": "https://localhost:8080/"
        },
        "id": "A35er2PU8GUe",
        "outputId": "16b35169-9dca-4c2c-efac-41bb44d6c8d9"
      },
      "execution_count": null,
      "outputs": [
        {
          "output_type": "stream",
          "name": "stdout",
          "text": [
            "<_io.TextIOWrapper name='frutas_feira.txt' mode='a' encoding='utf-8'>\n"
          ]
        }
      ]
    },
    {
      "cell_type": "code",
      "source": [
        "file = open(\"frutas_feira.txt\", \"r\")\n",
        "print(file)"
      ],
      "metadata": {
        "colab": {
          "base_uri": "https://localhost:8080/"
        },
        "id": "u3BYH3hU8e1S",
        "outputId": "40454e33-8f90-40da-cb87-e72478bf5d59"
      },
      "execution_count": null,
      "outputs": [
        {
          "output_type": "stream",
          "name": "stdout",
          "text": [
            "<_io.TextIOWrapper name='frutas_feira.txt' mode='r' encoding='utf-8'>\n"
          ]
        }
      ]
    },
    {
      "cell_type": "code",
      "source": [
        "file = open(\"frutas_feira.txt\", \"r\")\n",
        "conteudo = file.read()\n",
        "print(conteudo)\n",
        "file.close()\n"
      ],
      "metadata": {
        "colab": {
          "base_uri": "https://localhost:8080/"
        },
        "id": "Ai8arvrS85Og",
        "outputId": "c40891e9-bfb6-4f38-8b87-233c56faac1d"
      },
      "execution_count": null,
      "outputs": [
        {
          "output_type": "stream",
          "name": "stdout",
          "text": [
            "Fruta          | Preço por Kg (R$)\n",
            "-----------------------------------\n",
            "Banana         | 4,50\n",
            "Maçã           | 7,00\n",
            "Laranja        | 3,80\n",
            "Abacaxi        | 6,50 (unidade)\n",
            "Melancia       | 5,00 (unidade)\n",
            "Uva            | 9,00\n",
            "Mamão          | 5,50\n",
            "Manga          | 4,20\n",
            "Morango        | 10,00 (bandeja)\n",
            "Limão          | 2,50\n",
            "\n"
          ]
        }
      ]
    },
    {
      "cell_type": "code",
      "source": [
        "arquivo = open(\"frutas_feira.txt\",\"a\")\n",
        "arquivo.write(\"Eu quero salvar um arquivo!!!\")\n",
        "arquivo.close()\n",
        "\n",
        "conteudo = arquivo.read()\n",
        "print(conteudo)\n",
        "arquivo.close()\n"
      ],
      "metadata": {
        "colab": {
          "base_uri": "https://localhost:8080/"
        },
        "id": "l0-PW8oC9JLE",
        "outputId": "83cd5e80-b630-43da-868b-555af36f78fd"
      },
      "execution_count": null,
      "outputs": [
        {
          "output_type": "stream",
          "name": "stdout",
          "text": [
            "Fruta          | Preço por Kg (R$)\n",
            "-----------------------------------\n",
            "Banana         | 4,50\n",
            "Maçã           | 7,00\n",
            "Laranja        | 3,80\n",
            "Abacaxi        | 6,50 (unidade)\n",
            "Melancia       | 5,00 (unidade)\n",
            "Uva            | 9,00\n",
            "Mamão          | 5,50\n",
            "Manga          | 4,20\n",
            "Morango        | 10,00 (bandeja)\n",
            "Limão          | 2,50\n",
            "Eu quero salvar um arquivo!!!Eu quero salvar um arquivo!!!\n"
          ]
        }
      ]
    },
    {
      "cell_type": "code",
      "source": [
        "arquivo = open(\"frutas_feira.txt\", \"r\", encoding=\"utf8\") #encoding=\"utf8\" é a codificação de caracteres que informa ao Python como deve interpretar os símbolos, letras e caracteres especiais do arquivo.\n",
        "\n",
        "print(arquivo.read())\n",
        "\n",
        "arquivo.close()\n"
      ],
      "metadata": {
        "colab": {
          "base_uri": "https://localhost:8080/"
        },
        "id": "9bA4G4xM9vgD",
        "outputId": "30c57ff5-cfb5-43d0-8bda-034d7f5d78c1"
      },
      "execution_count": null,
      "outputs": [
        {
          "output_type": "stream",
          "name": "stdout",
          "text": [
            "Fruta          | Preço por Kg (R$)\n",
            "-----------------------------------\n",
            "Banana         | 4,50\n",
            "Maçã           | 7,00\n",
            "Laranja        | 3,80\n",
            "Abacaxi        | 6,50 (unidade)\n",
            "Melancia       | 5,00 (unidade)\n",
            "Uva            | 9,00\n",
            "Mamão          | 5,50\n",
            "Manga          | 4,20\n",
            "Morango        | 10,00 (bandeja)\n",
            "Limão          | 2,50\n",
            "Eu quero salvar um arquivo!!!Eu quero salvar um arquivo!!!\n"
          ]
        }
      ]
    },
    {
      "cell_type": "code",
      "source": [
        "arquivo = open(\"frutas_feira.txt\", \"r\", encoding=\"utf8\")\n",
        "\n",
        "print(arquivo.readline())\n",
        "\n",
        "arquivo.close()\n"
      ],
      "metadata": {
        "colab": {
          "base_uri": "https://localhost:8080/"
        },
        "id": "CO-GF0uY-Zjk",
        "outputId": "cc1d6ff2-5bb3-40cf-c6d2-9569dd2cecee"
      },
      "execution_count": null,
      "outputs": [
        {
          "output_type": "stream",
          "name": "stdout",
          "text": [
            "Fruta          | Preço por Kg (R$)\n",
            "\n"
          ]
        }
      ]
    },
    {
      "cell_type": "code",
      "source": [
        "nome_arquivo = \"frutas_feira.txt\"\n",
        "arquivo = open(nome_arquivo,\"r\",encoding=\"utf8\")\n",
        "for linha in arquivo:\n",
        "  print(linha)\n",
        "\n",
        "arquivo.close()"
      ],
      "metadata": {
        "colab": {
          "base_uri": "https://localhost:8080/"
        },
        "id": "o1tuM9lg-8Hq",
        "outputId": "7f958613-dd9f-471c-9a5b-b6a934c3861d"
      },
      "execution_count": null,
      "outputs": [
        {
          "output_type": "stream",
          "name": "stdout",
          "text": [
            "Fruta          | Preço por Kg (R$)\n",
            "\n",
            "-----------------------------------\n",
            "\n",
            "Banana         | 4,50\n",
            "\n",
            "Maçã           | 7,00\n",
            "\n",
            "Laranja        | 3,80\n",
            "\n",
            "Abacaxi        | 6,50 (unidade)\n",
            "\n",
            "Melancia       | 5,00 (unidade)\n",
            "\n",
            "Uva            | 9,00\n",
            "\n",
            "Mamão          | 5,50\n",
            "\n",
            "Manga          | 4,20\n",
            "\n",
            "Morango        | 10,00 (bandeja)\n",
            "\n",
            "Limão          | 2,50\n",
            "\n",
            "Eu quero salvar um arquivo!!!Eu quero salvar um arquivo!!!\n"
          ]
        }
      ]
    }
  ]
}